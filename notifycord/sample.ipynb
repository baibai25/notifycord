{
 "cells": [
  {
   "cell_type": "code",
   "execution_count": 1,
   "metadata": {},
   "outputs": [],
   "source": [
    "import os\n",
    "\n",
    "from dotenv import load_dotenv\n",
    "\n",
    "from notifycord import NotifyCord\n",
    "\n",
    "load_dotenv(\"../.envrc\")\n",
    "\n",
    "# Set your Discord WEBHOOK URL\n",
    "DISCORD_WEBHOOK_URL = os.environ.get(\"DISCORD_WEBHOOK_URL\")"
   ]
  },
  {
   "cell_type": "code",
   "execution_count": 2,
   "metadata": {},
   "outputs": [
    {
     "name": "stderr",
     "output_type": "stream",
     "text": [
      "INFO:root:Successfully transmitted to Discord!\n"
     ]
    }
   ],
   "source": [
    "# Default Usage\n",
    "notify = NotifyCord(DISCORD_WEBHOOK_URL)\n",
    "\n",
    "cnt = 0\n",
    "for i in range(100000):\n",
    "    cnt += i\n",
    "\n",
    "# Send message to Discord\n",
    "notify.send_complete_message()"
   ]
  },
  {
   "cell_type": "code",
   "execution_count": 3,
   "metadata": {},
   "outputs": [
    {
     "name": "stderr",
     "output_type": "stream",
     "text": [
      "INFO:root:Successfully transmitted to Discord!\n"
     ]
    }
   ],
   "source": [
    "# Custom message\n",
    "message = \"Finished training job!\"\n",
    "notify = NotifyCord(DISCORD_WEBHOOK_URL, message)\n",
    "\n",
    "cnt = 0\n",
    "for i in range(100000):\n",
    "    cnt += i\n",
    "\n",
    "# Send message to Discord\n",
    "notify.send_complete_message()"
   ]
  }
 ],
 "metadata": {
  "kernelspec": {
   "display_name": ".venv",
   "language": "python",
   "name": "python3"
  },
  "language_info": {
   "codemirror_mode": {
    "name": "ipython",
    "version": 3
   },
   "file_extension": ".py",
   "mimetype": "text/x-python",
   "name": "python",
   "nbconvert_exporter": "python",
   "pygments_lexer": "ipython3",
   "version": "3.9.12"
  }
 },
 "nbformat": 4,
 "nbformat_minor": 2
}
